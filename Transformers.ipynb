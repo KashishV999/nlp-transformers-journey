{
  "nbformat": 4,
  "nbformat_minor": 0,
  "metadata": {
    "colab": {
      "provenance": [],
      "authorship_tag": "ABX9TyN4mXDigAD1WKxXNp87G/w5",
      "include_colab_link": true
    },
    "kernelspec": {
      "name": "python3",
      "display_name": "Python 3"
    },
    "language_info": {
      "name": "python"
    }
  },
  "cells": [
    {
      "cell_type": "markdown",
      "metadata": {
        "id": "view-in-github",
        "colab_type": "text"
      },
      "source": [
        "<a href=\"https://colab.research.google.com/github/KashishV999/nlp-transformers-journey/blob/main/Transformers.ipynb\" target=\"_parent\"><img src=\"https://colab.research.google.com/assets/colab-badge.svg\" alt=\"Open In Colab\"/></a>"
      ]
    },
    {
      "cell_type": "markdown",
      "source": [
        "# NLP - Natural language Processing\n",
        "understand human lang, not just single words but **CONTEXT**\n",
        "\n",
        "#NLP common tasks Ex\n",
        "- classify\n",
        "- generate new sentence from input\n",
        "- multimodality (speech , image)\n",
        "\n",
        "\n",
        "# LLM - large lang models\n",
        "- **massive** amount of data train\n",
        "- perform **general** nlp tasks without task specific training\n",
        "\n",
        "\n",
        "# Difference in performance if i use task-specific train model vs LLM ?\n",
        "- In my chatbot I was using **open ai chat completion feature**\n",
        "which uses gpt [LLM]  -> general nlp tasks -> cause its been trained so billions of datasets -> most likly its gonna give me right answer casue of its heavy training\n",
        "\n",
        "  - BUTTTTT its gonna be so expensive cause imma pay cost per API call  \n",
        "  - SPEED - SLOW - call api every time\n",
        "  - less accurate in giving me domain specific correct answers\n",
        "\n",
        "\n",
        "- Better way:\n",
        "\n",
        "We will **finetune a pretrained NLP model** (like BERT, distilbert) on a speciifc task using labeled dataset\n",
        "\n",
        "- FAST & cheap - use computer resources rather than any api and smaller model with less parameters and run locally\n",
        "\n",
        "- more accurate as it has domain specific data\n",
        "\n",
        "BUT WE NEED DATA TO TRAIN\n",
        "\n",
        "\n",
        "\n",
        "\n",
        "\n",
        "\n"
      ],
      "metadata": {
        "id": "n_QF9YND8XgI"
      }
    },
    {
      "cell_type": "markdown",
      "source": [
        "# TRANSFORMERS LIBRARY\n",
        "Now to work with pretrained models on hugging face for NLP tasks , I'm gonna use transformers library esp **pipeline function** ,\n",
        "- Fast quick way to work as it handles PRE or POST processing\n",
        "- DO NOT USE WHEN WANT LOW-LEVEL FULL CONTROL\n",
        "\n",
        "## PIPELINE FOR MULTIMODALITY\n",
        "\n",
        "### TEXT\n",
        "Here I will classify text and i will provide my own labels instead of depending on labels of models , so its called zero shot classification\n",
        "\n"
      ],
      "metadata": {
        "id": "jSvHhkS2hjnM"
      }
    },
    {
      "cell_type": "code",
      "source": [
        "from transformers import pipeline"
      ],
      "metadata": {
        "id": "K2TysfThj4FO"
      },
      "execution_count": 3,
      "outputs": []
    },
    {
      "cell_type": "code",
      "source": [
        "# pipeline by itself cache model according to its task\n",
        "classifier = pipeline(\"zero-shot-classification\")"
      ],
      "metadata": {
        "id": "2I6DdG5tl7Sx"
      },
      "execution_count": null,
      "outputs": []
    },
    {
      "cell_type": "code",
      "source": [
        "sentences = [\n",
        "    \"Show me a talkative black cat\",\n",
        "    \"Looking to adopt a new pet\"\n",
        "]\n",
        "\n",
        "result = classifier(sentences, candidate_labels=[\"cat_search\", \"adoption\", \"off_topic_query\"])\n",
        "result"
      ],
      "metadata": {
        "colab": {
          "base_uri": "https://localhost:8080/"
        },
        "id": "iiUSMSNZmONA",
        "outputId": "96ebcc6d-8af9-478d-d202-d0e57b5b9787"
      },
      "execution_count": 8,
      "outputs": [
        {
          "output_type": "execute_result",
          "data": {
            "text/plain": [
              "[{'sequence': 'Show me a talkative black cat',\n",
              "  'labels': ['cat_search', 'off_topic_query', 'adoption'],\n",
              "  'scores': [0.5209070444107056, 0.33492591977119446, 0.14416703581809998]},\n",
              " {'sequence': 'Looking to adopt a new pet',\n",
              "  'labels': ['adoption', 'cat_search', 'off_topic_query'],\n",
              "  'scores': [0.9438875913619995, 0.039378680288791656, 0.01673373207449913]}]"
            ]
          },
          "metadata": {},
          "execution_count": 8
        }
      ]
    }
  ]
}
{
  "nbformat": 4,
  "nbformat_minor": 0,
  "metadata": {
    "colab": {
      "provenance": [],
      "authorship_tag": "ABX9TyPtcXjiXBUrACTfPrWJFu4l",
      "include_colab_link": true
    },
    "kernelspec": {
      "name": "python3",
      "display_name": "Python 3"
    },
    "language_info": {
      "name": "python"
    }
  },
  "cells": [
    {
      "cell_type": "markdown",
      "metadata": {
        "id": "view-in-github",
        "colab_type": "text"
      },
      "source": [
        "<a href=\"https://colab.research.google.com/github/KashishV999/nlp-transformers-journey/blob/main/Transformers.ipynb\" target=\"_parent\"><img src=\"https://colab.research.google.com/assets/colab-badge.svg\" alt=\"Open In Colab\"/></a>"
      ]
    },
    {
      "cell_type": "markdown",
      "source": [
        "# NLP - Natural language Processing\n",
        "understand human lang, not just single words but **CONTEXT**\n",
        "\n",
        "#NLP common tasks Ex\n",
        "- classify\n",
        "- generate new sentence from input\n",
        "- multimodality (speech , image)\n",
        "\n",
        "\n",
        "# LLM - large lang models\n",
        "- **massive** amount of data train\n",
        "- perform **general** nlp tasks without task specific training\n",
        "\n",
        "\n",
        "# Difference in performance if i use task-specific train model vs LLM ?\n",
        "- In my chatbot I was using **open ai chat completion feature**\n",
        "which uses gpt [LLM]  -> general nlp tasks -> cause its been trained so billions of datasets -> most likly its gonna give me right answer casue of its heavy training\n",
        "\n",
        "  - BUTTTTT its gonna be so expensive cause imma pay cost per API call  \n",
        "  - SPEED - SLOW - call api every time\n",
        "  - less accurate in giving me correct answers\n",
        "\n",
        "\n",
        "- Better way:\n",
        "\n",
        "We wil **finetune a pretrained NLP model (like BERT, distilbert)** on a speciifc task using dataset\n",
        "\n",
        "- FAST & cheap - use computer resources rather than any api and smaller model with less parameters and run locally\n",
        "\n",
        "- more accurate as it has domain specific data\n",
        "\n",
        "BUT WE NEED DATA TO TRAIN\n",
        "\n",
        "\n",
        "\n"
      ],
      "metadata": {
        "id": "n_QF9YND8XgI"
      }
    }
  ]
}